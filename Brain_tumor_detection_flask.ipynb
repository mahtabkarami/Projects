{
  "nbformat": 4,
  "nbformat_minor": 0,
  "metadata": {
    "colab": {
      "provenance": [],
      "authorship_tag": "ABX9TyNqwEbTKsNNG6NMcZu4I9ka",
      "include_colab_link": true
    },
    "kernelspec": {
      "name": "python3",
      "display_name": "Python 3"
    },
    "language_info": {
      "name": "python"
    }
  },
  "cells": [
    {
      "cell_type": "markdown",
      "metadata": {
        "id": "view-in-github",
        "colab_type": "text"
      },
      "source": [
        "<a href=\"https://colab.research.google.com/github/mahtabkarami/Projects/blob/main/Brain_tumor_detection_flask.ipynb\" target=\"_parent\"><img src=\"https://colab.research.google.com/assets/colab-badge.svg\" alt=\"Open In Colab\"/></a>"
      ]
    },
    {
      "cell_type": "code",
      "source": [
        "\n",
        "# نصب کتابخانه‌های لازم\n",
        "!pip install flask pyngrok kagglehub\n",
        "\n",
        "# ایمپورت‌ها\n",
        "import kagglehub\n",
        "from flask import Flask, request, render_template_string, send_from_directory\n",
        "from pyngrok import ngrok\n",
        "import tensorflow as tf\n",
        "from tensorflow.keras.models import load_model\n",
        "from tensorflow.keras.preprocessing import image\n",
        "from tensorflow.keras.preprocessing.image import ImageDataGenerator\n",
        "from tensorflow.keras import models, layers, optimizers, losses\n",
        "import numpy as np\n",
        "import os\n",
        "import shutil\n",
        "\n",
        "# دانلود دیتاست\n",
        "path = kagglehub.dataset_download(\"masoudnickparvar/brain-tumor-mri-dataset\")\n",
        "print(\"Path to dataset files:\", path)\n",
        "\n",
        "# مسیر دیتا\n",
        "train_data_dir = os.path.join(path, 'Training')\n",
        "test_data_dir = os.path.join(path, 'Testing')\n",
        "\n",
        "# دیتاجنریتور\n",
        "train_datagen = ImageDataGenerator(rescale=1./255)\n",
        "test_datagen = ImageDataGenerator(rescale=1./255)\n",
        "\n",
        "train_generator = train_datagen.flow_from_directory(\n",
        "    train_data_dir, target_size=(64, 64),\n",
        "    color_mode='grayscale', class_mode='categorical',\n",
        "    batch_size=128, shuffle=True\n",
        ")\n",
        "\n",
        "test_generator = test_datagen.flow_from_directory(\n",
        "    test_data_dir, target_size=(64, 64),\n",
        "    color_mode='grayscale', class_mode='categorical',\n",
        "    batch_size=128, shuffle=False\n",
        ")\n",
        "\n",
        "# تعداد کلاس‌ها\n",
        "num_classes = train_generator.num_classes\n",
        "\n",
        "# ساخت مدل\n",
        "myInput = layers.Input(shape=(64, 64, 1))\n",
        "conv1 = layers.Conv2D(32, 3, padding='same', strides=2)(myInput)\n",
        "bn1 = layers.BatchNormalization()(conv1)\n",
        "ac1 = layers.Activation('relu')(bn1)\n",
        "conv2 = layers.Conv2D(64, 3, padding='same', strides=2)(ac1)\n",
        "bn2 = layers.BatchNormalization()(conv2)\n",
        "ac2 = layers.Activation('relu')(bn2)\n",
        "flat = layers.Flatten()(ac2)\n",
        "out_layer = layers.Dense(num_classes, activation='softmax')(flat)\n",
        "\n",
        "myModel = models.Model(myInput, out_layer)\n",
        "myModel.compile(optimizer=optimizers.SGD(learning_rate=0.001),\n",
        "                loss=losses.categorical_crossentropy,\n",
        "                metrics=['accuracy'])\n",
        "\n",
        "# آموزش مدل\n",
        "history = myModel.fit(train_generator, epochs=10, validation_data=test_generator)\n",
        "\n",
        "# ذخیره و بارگذاری مدل\n",
        "model_path = \"/content/my_mri_model.h5\"\n",
        "myModel.save(model_path)\n",
        "model = load_model(model_path)\n",
        "\n",
        "# کلاس‌ها\n",
        "class_labels = list(train_generator.class_indices.keys())\n",
        "\n",
        "# پوشه آپلود\n",
        "upload_folder = '/content/uploads'\n",
        "os.makedirs(upload_folder, exist_ok=True)\n",
        "\n",
        "# ساخت اپ Flask\n",
        "app = Flask(__name__)\n",
        "app.config['UPLOAD_FOLDER'] = upload_folder\n",
        "\n",
        "html_template = \"\"\"\n",
        "<!DOCTYPE html>\n",
        "<html>\n",
        "<head>\n",
        "    <title>Brain Tumor MRI Prediction</title>\n",
        "</head>\n",
        "<body style=\"text-align:center; font-family: Arial;\">\n",
        "    <h1>Upload an MRI Image</h1>\n",
        "    <form method=\"POST\" action=\"/\" enctype=\"multipart/form-data\">\n",
        "        <input type=\"file\" name=\"file\" accept=\"image/*\" required>\n",
        "        <br><br>\n",
        "        <input type=\"submit\" value=\"Predict\">\n",
        "    </form>\n",
        "\n",
        "    {% if image_url %}\n",
        "        <h2>Uploaded Image:</h2>\n",
        "        <img src=\"{{ image_url }}\" style=\"width:300px; height:300px; object-fit:cover; border:2px solid black;\">\n",
        "        <h2>Predicted Tumor Type: {{ prediction }}</h2>\n",
        "        <h3>Confidence: {{ confidence }}</h3>\n",
        "    {% endif %}\n",
        "</body>\n",
        "</html>\n",
        "\"\"\"\n",
        "\n",
        "@app.route(\"/\", methods=[\"GET\", \"POST\"])\n",
        "def upload_predict():\n",
        "    prediction = None\n",
        "    confidence = None\n",
        "    image_url = None\n",
        "    if request.method == \"POST\":\n",
        "        file = request.files[\"file\"]\n",
        "        if file:\n",
        "            filepath = os.path.join(app.config['UPLOAD_FOLDER'], file.filename)\n",
        "            file.save(filepath)\n",
        "\n",
        "            img = image.load_img(filepath, target_size=(64, 64), color_mode='grayscale')\n",
        "            img_array = image.img_to_array(img)\n",
        "            img_array = img_array / 255.0\n",
        "            img_array = np.expand_dims(img_array, axis=0)\n",
        "\n",
        "            pred = model.predict(img_array)\n",
        "            pred_class = np.argmax(pred)\n",
        "            pred_confidence = np.max(pred)\n",
        "\n",
        "            prediction = class_labels[pred_class]\n",
        "            confidence = f\"{pred_confidence * 100:.2f}%\"\n",
        "            image_url = f\"/uploads/{file.filename}\"\n",
        "\n",
        "    return render_template_string(html_template, prediction=prediction, confidence=confidence, image_url=image_url)\n",
        "\n",
        "@app.route(\"/uploads/<filename>\")\n",
        "def uploaded_file(filename):\n",
        "    return send_from_directory(app.config['UPLOAD_FOLDER'], filename)\n",
        "\n",
        "if __name__ == \"__main__\":\n",
        "    os.system(\"ngrok authtoken 2wIkinplPcxwWDOumn7c2cFJYts_3fwGHsZW4gAByMoAUixQQ\")\n",
        "    public_url = ngrok.connect(5000)\n",
        "    print(\"Public URL:\", public_url)\n",
        "    app.run(port=5000, host=\"0.0.0.0\")\n",
        "    app.run(port=5000, host=\"0.0.0.0\", debug=False, use_reloader=False)"
      ],
      "metadata": {
        "colab": {
          "base_uri": "https://localhost:8080/"
        },
        "id": "zNaJo5x73cAL",
        "outputId": "860efe64-632b-4bc1-9ed1-f17cb25b04d0"
      },
      "execution_count": null,
      "outputs": [
        {
          "metadata": {
            "tags": null
          },
          "name": "stdout",
          "output_type": "stream",
          "text": [
            "Requirement already satisfied: flask in /usr/local/lib/python3.11/dist-packages (3.1.0)\n",
            "Requirement already satisfied: pyngrok in /usr/local/lib/python3.11/dist-packages (7.2.5)\n",
            "Requirement already satisfied: kagglehub in /usr/local/lib/python3.11/dist-packages (0.3.11)\n",
            "Requirement already satisfied: Werkzeug>=3.1 in /usr/local/lib/python3.11/dist-packages (from flask) (3.1.3)\n",
            "Requirement already satisfied: Jinja2>=3.1.2 in /usr/local/lib/python3.11/dist-packages (from flask) (3.1.6)\n",
            "Requirement already satisfied: itsdangerous>=2.2 in /usr/local/lib/python3.11/dist-packages (from flask) (2.2.0)\n",
            "Requirement already satisfied: click>=8.1.3 in /usr/local/lib/python3.11/dist-packages (from flask) (8.1.8)\n",
            "Requirement already satisfied: blinker>=1.9 in /usr/local/lib/python3.11/dist-packages (from flask) (1.9.0)\n",
            "Requirement already satisfied: PyYAML>=5.1 in /usr/local/lib/python3.11/dist-packages (from pyngrok) (6.0.2)\n",
            "Requirement already satisfied: packaging in /usr/local/lib/python3.11/dist-packages (from kagglehub) (24.2)\n",
            "Requirement already satisfied: requests in /usr/local/lib/python3.11/dist-packages (from kagglehub) (2.32.3)\n",
            "Requirement already satisfied: tqdm in /usr/local/lib/python3.11/dist-packages (from kagglehub) (4.67.1)\n",
            "Requirement already satisfied: MarkupSafe>=2.0 in /usr/local/lib/python3.11/dist-packages (from Jinja2>=3.1.2->flask) (3.0.2)\n",
            "Requirement already satisfied: charset-normalizer<4,>=2 in /usr/local/lib/python3.11/dist-packages (from requests->kagglehub) (3.4.1)\n",
            "Requirement already satisfied: idna<4,>=2.5 in /usr/local/lib/python3.11/dist-packages (from requests->kagglehub) (3.10)\n",
            "Requirement already satisfied: urllib3<3,>=1.21.1 in /usr/local/lib/python3.11/dist-packages (from requests->kagglehub) (2.3.0)\n",
            "Requirement already satisfied: certifi>=2017.4.17 in /usr/local/lib/python3.11/dist-packages (from requests->kagglehub) (2025.1.31)\n",
            "Path to dataset files: /kaggle/input/brain-tumor-mri-dataset\n",
            "Found 5712 images belonging to 4 classes.\n",
            "Found 1311 images belonging to 4 classes.\n",
            "Epoch 1/10\n",
            "\u001b[1m45/45\u001b[0m \u001b[32m━━━━━━━━━━━━━━━━━━━━\u001b[0m\u001b[37m\u001b[0m \u001b[1m24s\u001b[0m 510ms/step - accuracy: 0.4392 - loss: 1.2500 - val_accuracy: 0.2288 - val_loss: 1.3790\n",
            "Epoch 2/10\n",
            "\u001b[1m45/45\u001b[0m \u001b[32m━━━━━━━━━━━━━━━━━━━━\u001b[0m\u001b[37m\u001b[0m \u001b[1m40s\u001b[0m 485ms/step - accuracy: 0.7027 - loss: 0.7963 - val_accuracy: 0.2288 - val_loss: 1.4197\n",
            "Epoch 3/10\n",
            "\u001b[1m45/45\u001b[0m \u001b[32m━━━━━━━━━━━━━━━━━━━━\u001b[0m\u001b[37m\u001b[0m \u001b[1m24s\u001b[0m 527ms/step - accuracy: 0.7444 - loss: 0.6788 - val_accuracy: 0.2288 - val_loss: 1.4582\n",
            "Epoch 4/10\n",
            "\u001b[1m45/45\u001b[0m \u001b[32m━━━━━━━━━━━━━━━━━━━━\u001b[0m\u001b[37m\u001b[0m \u001b[1m21s\u001b[0m 467ms/step - accuracy: 0.7780 - loss: 0.6051 - val_accuracy: 0.2288 - val_loss: 1.5306\n",
            "Epoch 5/10\n",
            "\u001b[1m45/45\u001b[0m \u001b[32m━━━━━━━━━━━━━━━━━━━━\u001b[0m\u001b[37m\u001b[0m \u001b[1m22s\u001b[0m 489ms/step - accuracy: 0.7959 - loss: 0.5658 - val_accuracy: 0.2349 - val_loss: 1.5038\n",
            "Epoch 6/10\n",
            "\u001b[1m45/45\u001b[0m \u001b[32m━━━━━━━━━━━━━━━━━━━━\u001b[0m\u001b[37m\u001b[0m \u001b[1m22s\u001b[0m 486ms/step - accuracy: 0.8129 - loss: 0.5276 - val_accuracy: 0.2525 - val_loss: 1.5198\n",
            "Epoch 7/10\n",
            "\u001b[1m45/45\u001b[0m \u001b[32m━━━━━━━━━━━━━━━━━━━━\u001b[0m\u001b[37m\u001b[0m \u001b[1m23s\u001b[0m 522ms/step - accuracy: 0.8265 - loss: 0.4991 - val_accuracy: 0.3219 - val_loss: 1.4258\n",
            "Epoch 8/10\n",
            "\u001b[1m45/45\u001b[0m \u001b[32m━━━━━━━━━━━━━━━━━━━━\u001b[0m\u001b[37m\u001b[0m \u001b[1m24s\u001b[0m 527ms/step - accuracy: 0.8276 - loss: 0.4893 - val_accuracy: 0.3936 - val_loss: 1.3024\n",
            "Epoch 9/10\n",
            "\u001b[1m45/45\u001b[0m \u001b[32m━━━━━━━━━━━━━━━━━━━━\u001b[0m\u001b[37m\u001b[0m \u001b[1m39s\u001b[0m 488ms/step - accuracy: 0.8385 - loss: 0.4628 - val_accuracy: 0.4905 - val_loss: 1.1527\n",
            "Epoch 10/10\n",
            "\u001b[1m45/45\u001b[0m \u001b[32m━━━━━━━━━━━━━━━━━━━━\u001b[0m\u001b[37m\u001b[0m \u001b[1m22s\u001b[0m 491ms/step - accuracy: 0.8429 - loss: 0.4565 - val_accuracy: 0.5599 - val_loss: 1.0080\n"
          ]
        },
        {
          "metadata": {
            "tags": null
          },
          "name": "stderr",
          "output_type": "stream",
          "text": [
            "WARNING:absl:You are saving your model as an HDF5 file via `model.save()` or `keras.saving.save_model(model)`. This file format is considered legacy. We recommend using instead the native Keras format, e.g. `model.save('my_model.keras')` or `keras.saving.save_model(model, 'my_model.keras')`. \n",
            "WARNING:absl:Compiled the loaded model, but the compiled metrics have yet to be built. `model.compile_metrics` will be empty until you train or evaluate the model.\n"
          ]
        },
        {
          "metadata": {
            "tags": null
          },
          "name": "stdout",
          "output_type": "stream",
          "text": [
            "Public URL: NgrokTunnel: \"https://d6bf-34-86-102-217.ngrok-free.app\" -> \"http://localhost:5000\"\n",
            " * Serving Flask app '__main__'\n",
            " * Debug mode: off\n"
          ]
        },
        {
          "metadata": {
            "tags": null
          },
          "name": "stderr",
          "output_type": "stream",
          "text": [
            "INFO:werkzeug:\u001b[31m\u001b[1mWARNING: This is a development server. Do not use it in a production deployment. Use a production WSGI server instead.\u001b[0m\n",
            " * Running on all addresses (0.0.0.0)\n",
            " * Running on http://127.0.0.1:5000\n",
            " * Running on http://172.28.0.12:5000\n",
            "INFO:werkzeug:\u001b[33mPress CTRL+C to quit\u001b[0m\n",
            "INFO:werkzeug:127.0.0.1 - - [27/Apr/2025 07:25:32] \"GET / HTTP/1.1\" 200 -\n",
            "INFO:werkzeug:127.0.0.1 - - [27/Apr/2025 07:25:32] \"GET / HTTP/1.1\" 200 -\n",
            "INFO:werkzeug:127.0.0.1 - - [27/Apr/2025 07:29:03] \"GET / HTTP/1.1\" 200 -\n",
            "INFO:werkzeug:127.0.0.1 - - [27/Apr/2025 07:29:04] \"\u001b[33mGET /favicon.ico HTTP/1.1\u001b[0m\" 404 -\n"
          ]
        },
        {
          "metadata": {
            "tags": null
          },
          "name": "stdout",
          "output_type": "stream",
          "text": [
            "\u001b[1m1/1\u001b[0m \u001b[32m━━━━━━━━━━━━━━━━━━━━\u001b[0m\u001b[37m\u001b[0m \u001b[1m0s\u001b[0m 126ms/step\n"
          ]
        },
        {
          "metadata": {
            "tags": null
          },
          "name": "stderr",
          "output_type": "stream",
          "text": [
            "INFO:werkzeug:127.0.0.1 - - [27/Apr/2025 07:30:17] \"POST / HTTP/1.1\" 200 -\n",
            "INFO:werkzeug:127.0.0.1 - - [27/Apr/2025 07:30:17] \"GET /uploads/Tr-no_0031.jpg HTTP/1.1\" 200 -\n"
          ]
        }
      ]
    }
  ]
}