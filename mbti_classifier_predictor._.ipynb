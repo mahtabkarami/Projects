{
 "cells": [
  {
   "cell_type": "code",
   "execution_count": 2,
   "metadata": {},
   "outputs": [
    {
     "name": "stdout",
     "output_type": "stream",
     "text": [
      "Synthetic MBTI dataset generated and loaded into memory.\n",
      "Classification Report:\n",
      "              precision    recall  f1-score   support\n",
      "\n",
      "        ENFJ       0.06      0.10      0.07        10\n",
      "        ENFP       0.00      0.00      0.00         9\n",
      "        ENTJ       0.00      0.00      0.00        12\n",
      "        ENTP       0.00      0.00      0.00        13\n",
      "        ESFJ       0.11      0.10      0.11        10\n",
      "        ESFP       0.00      0.00      0.00        13\n",
      "        ESTJ       0.20      0.07      0.11        14\n",
      "        ESTP       0.12      0.05      0.07        19\n",
      "        INFJ       0.09      0.06      0.07        16\n",
      "        INFP       0.08      0.08      0.08        13\n",
      "        INTJ       0.12      0.17      0.14        12\n",
      "        INTP       0.00      0.00      0.00         6\n",
      "        ISFJ       0.00      0.00      0.00         9\n",
      "        ISFP       0.03      0.08      0.04        12\n",
      "        ISTJ       0.09      0.08      0.09        12\n",
      "        ISTP       0.05      0.05      0.05        20\n",
      "\n",
      "    accuracy                           0.06       200\n",
      "   macro avg       0.06      0.05      0.05       200\n",
      "weighted avg       0.07      0.06      0.06       200\n",
      "\n",
      "Accuracy: 0.06\n"
     ]
    },
    {
     "data": {
      "application/vnd.jupyter.widget-view+json": {
       "model_id": "e9e700e2028a45d393a0d4d264e1fa52",
       "version_major": 2,
       "version_minor": 0
      },
      "text/plain": [
       "VBox(children=(IntSlider(value=0, description='Do you prefer to plan things in advance rather than being spont…"
      ]
     },
     "metadata": {},
     "output_type": "display_data"
    },
    {
     "data": {
      "application/vnd.jupyter.widget-view+json": {
       "model_id": "473167af478b439b86f220bd84a1f3b2",
       "version_major": 2,
       "version_minor": 0
      },
      "text/plain": [
       "Button(description='Predict MBTI Type', style=ButtonStyle())"
      ]
     },
     "metadata": {},
     "output_type": "display_data"
    },
    {
     "data": {
      "application/vnd.jupyter.widget-view+json": {
       "model_id": "6b9ff6f40deb4457ab311b62beaca2b2",
       "version_major": 2,
       "version_minor": 0
      },
      "text/plain": [
       "Output()"
      ]
     },
     "metadata": {},
     "output_type": "display_data"
    }
   ],
   "source": [
    "import pandas as pd\n",
    "import numpy as np\n",
    "from sklearn.model_selection import train_test_split, GridSearchCV\n",
    "from sklearn.ensemble import RandomForestClassifier\n",
    "from sklearn.metrics import classification_report, accuracy_score\n",
    "import ipywidgets as widgets\n",
    "from IPython.display import display\n",
    "\n",
    "# Set random seed for reproducibility\n",
    "np.random.seed(42)\n",
    "\n",
    "# Generate synthetic MBTI dataset\n",
    "num_samples = 1000\n",
    "user_ids = range(1, num_samples + 1)\n",
    "\n",
    "# Sample personality types (16 types)\n",
    "personality_types = ['INTJ', 'INTP', 'ENTJ', 'ENTP', 'INFJ', 'INFP', 'ENFJ', 'ENFP',\n",
    "                     'ESTJ', 'ESTP', 'ISFJ', 'ISFP', 'ESFJ', 'ESFP', 'ISTJ', 'ISTP']\n",
    "\n",
    "# Generate random personality types for users\n",
    "mbti_types = np.random.choice(personality_types, size=num_samples)\n",
    "\n",
    "# Generate random answers (0 or 1) for a set of questions (e.g., 10 questions)\n",
    "num_questions = 10\n",
    "answers = np.random.randint(2, size=(num_samples, num_questions))\n",
    "\n",
    "# Create DataFrame\n",
    "data = pd.DataFrame(answers, columns=[f'Answer_{i+1}' for i in range(num_questions)])\n",
    "data['User ID'] = user_ids\n",
    "data['Personality Type'] = mbti_types\n",
    "\n",
    "# Reorder columns\n",
    "data = data[['User ID', 'Personality Type'] + [f'Answer_{i+1}' for i in range(num_questions)]]\n",
    "\n",
    "# Work with the synthetic dataset in memory\n",
    "df = data.copy()\n",
    "print(\"Synthetic MBTI dataset generated and loaded into memory.\")\n",
    "\n",
    "# Prepare features and labels\n",
    "X = df.drop(columns=['User ID', 'Personality Type'])\n",
    "y = df['Personality Type']\n",
    "\n",
    "# Split the dataset into training and testing sets\n",
    "X_train, X_test, y_train, y_test = train_test_split(X, y, test_size=0.2, random_state=42)\n",
    "\n",
    "# Hyperparameter tuning using GridSearchCV\n",
    "param_grid = {\n",
    "    'n_estimators': [50, 100, 200],\n",
    "    'max_depth': [None, 10, 20, 30],\n",
    "    'min_samples_split': [2, 5, 10],\n",
    "}\n",
    "\n",
    "model = RandomForestClassifier(random_state=42)\n",
    "grid_search = GridSearchCV(model, param_grid, cv=5)\n",
    "grid_search.fit(X_train, y_train)\n",
    "\n",
    "# Best model from grid search\n",
    "best_model = grid_search.best_estimator_\n",
    "\n",
    "# Make predictions using the best model\n",
    "y_pred = best_model.predict(X_test)\n",
    "\n",
    "# Evaluate the model\n",
    "print(\"Classification Report:\")\n",
    "print(classification_report(y_test, y_pred))\n",
    "print(f\"Accuracy: {accuracy_score(y_test, y_pred):.2f}\")\n",
    "\n",
    "# Create interactive widgets for user input with specific questions\n",
    "questions = [\n",
    "    \"Do you prefer to plan things in advance rather than being spontaneous?\",\n",
    "    \"Do you enjoy being the center of attention at social gatherings?\",\n",
    "    \"Do you often think about the big picture rather than focusing on details?\",\n",
    "    \"Do you prefer to work in a team rather than working alone?\",\n",
    "    \"Do you find it easy to empathize with others' feelings?\",\n",
    "    \"Do you enjoy trying new things and taking risks?\",\n",
    "    \"Do you prefer to follow established rules rather than creating your own?\",\n",
    "    \"Do you often rely on logic and analysis when making decisions?\",\n",
    "    \"Do you prefer to have a few close friends rather than a wide circle of acquaintances?\",\n",
    "    \"Do you feel drained after spending a lot of time in social situations?\"\n",
    "]\n",
    "\n",
    "answer_widgets = [widgets.IntSlider(value=0, min=0, max=1, description=q) for q in questions]\n",
    "submit_button = widgets.Button(description=\"Predict MBTI Type\")\n",
    "\n",
    "output = widgets.Output()\n",
    "\n",
    "def on_button_click(b):\n",
    "    with output:\n",
    "        user_answers = np.array([widget.value for widget in answer_widgets]).reshape(1, -1)\n",
    "                # Create a DataFrame with appropriate feature names\n",
    "        user_answers_df = pd.DataFrame(user_answers, columns=X.columns)  # Use the same columns as your training data\n",
    "        predicted_type = best_model.predict(user_answers_df)\n",
    "        print(f'Predicted MBTI Type: {predicted_type[0]}')\n",
    "\n",
    "submit_button.on_click(on_button_click)\n",
    "\n",
    "# Display the questions and the submit button\n",
    "display(widgets.VBox(answer_widgets))\n",
    "display(submit_button)\n",
    "display(output)"
   ]
  }
 ],
 "metadata": {
  "kernelspec": {
   "display_name": "Python 3",
   "language": "python",
   "name": "python3"
  },
  "language_info": {
   "codemirror_mode": {
    "name": "ipython",
    "version": 3
   },
   "file_extension": ".py",
   "mimetype": "text/x-python",
   "name": "python",
   "nbconvert_exporter": "python",
   "pygments_lexer": "ipython3",
   "version": "3.12.1"
  }
 },
 "nbformat": 4,
 "nbformat_minor": 2
}
